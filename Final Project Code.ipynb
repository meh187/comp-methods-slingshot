{
 "cells": [
  {
   "cell_type": "code",
   "execution_count": 3,
   "metadata": {},
   "outputs": [],
   "source": [
    "import numpy as np\n",
    "from math import floor\n",
    "import matplotlib.pyplot as plt"
   ]
  },
  {
   "cell_type": "code",
   "execution_count": 4,
   "metadata": {},
   "outputs": [],
   "source": [
    "def RK4(f, x, t, h):\n",
    "    \"\"\"\n",
    "    Given a function f(x,t) and\n",
    "    scalars x, t, and h, return x(t+h)\n",
    "    \"\"\"\n",
    "\n",
    "    k1 = h*f(x, t)\n",
    "    k2 = h*f(x + (1/2)*k1, t + (1/2)*h)\n",
    "    k3 = h*f(x + (1/2)*k2, t + (1/2)*h)\n",
    "    k4 = h*f(x + k3, t + h)\n",
    "    \n",
    "    return x + (1/6)*(k1 + 2*k2 + 2*k3 + k4)"
   ]
  },
  {
   "cell_type": "code",
   "execution_count": 7,
   "metadata": {},
   "outputs": [
    {
     "data": {
      "image/png": "[encoded data removed]",
      "text/plain": [
       "<Figure size 720x720 with 1 Axes>"
      ]
     },
     "metadata": {
      "needs_background": "light"
     },
     "output_type": "display_data"
    }
   ],
   "source": [
    "M = 1.9891e30\n",
    "G = 6.6738e-11\n",
    "\n",
    "def f(r, t):\n",
    "    x, y, dxdt, dydt = r\n",
    "    \n",
    "    fx = -G*M*x / np.sqrt(x**2 + y**2)**3\n",
    "    fy = -G*M*y / np.sqrt(x**2 + y**2)**3\n",
    "    return np.array([dxdt, dydt, fx, fy])\n",
    "\n",
    "h = 20000\n",
    "t_values = np.arange(0, 3e9, h)\n",
    "x, y, dxdt, dydt = 4e9*1e3, 0, 0, 500\n",
    "\n",
    "t_values = []\n",
    "x_values = []\n",
    "y_values = []\n",
    "\n",
    "tmax = 8e8\n",
    "t = 0\n",
    "delta = 1e3 / 3.154e7\n",
    "\n",
    "while t < tmax:\n",
    "    t_values.append(t)\n",
    "    x_values.append(x)\n",
    "    y_values.append(y)\n",
    "    \n",
    "    rho = 0\n",
    "    while rho < 1:\n",
    "        xhh, yhh, dxdthh, dydthh = RK4(f, (x, y, dxdt, dydt), t, h)\n",
    "        xhh, yhh, dxdthh, dydthh = RK4(f, (xhh, yhh, dxdthh, dydthh), t, h)\n",
    "        x2h, y2h, dxdt2h, dydt2h = RK4(f, (x, y, dxdt, dydt), t, 2*h)\n",
    "        \n",
    "        delx = np.abs(xhh - x2h) / 30\n",
    "        dely = np.abs(xhh - x2h) / 30\n",
    "        err = np.sqrt(delx**2 + dely**2)\n",
    "        if err != 0: \n",
    "            rho = delta*h / err\n",
    "            h = min(h*rho**0.25, 2*h)\n",
    "        else:\n",
    "            h = 2*h\n",
    "    \n",
    "    (x, y, dxdt, dydt) = (xhh, yhh, dxdthh, dydthh)\n",
    "    t += h\n",
    "\n",
    "plt.figure(figsize=(10, 10))\n",
    "plt.plot(x_values, y_values, 'b.')\n",
    "plt.xlabel('x values')\n",
    "plt.ylabel('y values')\n",
    "plt.axis('scaled')\n",
    "plt.title('Comet Orbit with Adaptive Step Size')\n",
    "plt.show()"
   ]
  },
  {
   "cell_type": "code",
   "execution_count": null,
   "metadata": {},
   "outputs": [],
   "source": []
  }
 ],
 "metadata": {
  "kernelspec": {
   "display_name": "Python 3",
   "language": "python",
   "name": "python3"
  },
  "language_info": {
   "codemirror_mode": {
    "name": "ipython",
    "version": 3
   },
   "file_extension": ".py",
   "mimetype": "text/x-python",
   "name": "python",
   "nbconvert_exporter": "python",
   "pygments_lexer": "ipython3",
   "version": "3.6.6"
  }
 },
 "nbformat": 4,
 "nbformat_minor": 2
}
