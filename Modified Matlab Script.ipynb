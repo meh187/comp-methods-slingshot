{
 "cells": [
  {
   "cell_type": "markdown",
   "metadata": {},
   "source": [
    "This code calculates the trajectory of an object as it slingshots around a planet using conservation of energy. It also calculates the potential and kinetic energy over time.\n",
    "\n",
    "This code does not work quite right yet! I think there are issues with how I rewrote it in Python from Matlab with the slicing and whatnot, but I think it'll be great once I fix that. There is some sort of problem with the velocity right now."
   ]
  },
  {
   "cell_type": "code",
   "execution_count": 1,
   "metadata": {},
   "outputs": [],
   "source": [
    "import numpy as np\n",
    "import matplotlib.pyplot as plt\n",
    "import ipywidgets as widgets # widgets\n",
    "from IPython import display # control drawing of widgets\n",
    "from matplotlib.animation import FuncAnimation\n",
    "from IPython.display import HTML "
   ]
  },
  {
   "cell_type": "code",
   "execution_count": 45,
   "metadata": {},
   "outputs": [
    {
     "name": "stderr",
     "output_type": "stream",
     "text": [
      "C:\\Users\\mheig\\AppData\\Local\\Continuum\\anaconda3\\lib\\site-packages\\ipykernel_launcher.py:79: ComplexWarning: Casting complex values to real discards the imaginary part\n",
      "C:\\Users\\mheig\\AppData\\Local\\Continuum\\anaconda3\\lib\\site-packages\\ipykernel_launcher.py:80: ComplexWarning: Casting complex values to real discards the imaginary part\n"
     ]
    }
   ],
   "source": [
    "# mec_spring_energy.m\n",
    "# Ian Cooper\n",
    "# School of Physics, University of Sydney\n",
    "# http://www.physics.usyd.edu.au/teach_res/mp/mphome.htm\n",
    "\n",
    "# In the section PLANET: comment / uncomment to select\n",
    "#   stationary or moving planet\n",
    "\n",
    "\n",
    "# Input and Constants +++++++++++++++++++++++++++++++++++++++++++++++\n",
    "K = 80                # constant of proportionality\n",
    "step = 250\n",
    "t_max = 8             # max simulation time\n",
    "nt = 100              # number of time steps\n",
    "\n",
    "# ********************************************************************\n",
    "#  Setup and initialize variables\n",
    "# ********************************************************************\n",
    "v_0x = 3;        # initial velcoity: x cpt.\n",
    "v_0y = 0;        # initial velcoity: y cpt.\n",
    "x0 = -10;                    # initial displacement: x cpt.\n",
    "y0 = 3;                      # initial displacement: y cpt.\n",
    "\n",
    "t = np.linspace(0, t_max, nt);                # time\n",
    "dt = t[1] - t[0]                     # time step \n",
    "\n",
    "# PLANET --------------------------------------------------------------\n",
    "# Select planet stationary or moving by commenting / uncommenting code\n",
    "#vP =  0; xP0 = 2;   # Planet Stationary vP = 0\n",
    "vP = -2; xP0 = 10       # Moving planet\n",
    "# --------------------------------------------------------------------        \n",
    "xP = xP0 + vP * t;\n",
    "yP = np.zeros(nt)\n",
    "Rd = np.zeros(nt)\n",
    "vx = np.zeros(nt)\n",
    "vy = np.zeros(nt)\n",
    "ax = np.zeros(nt)\n",
    "ay = np.zeros(nt)\n",
    "v = np.zeros(nt)\n",
    "\n",
    "x = np.zeros(nt)\n",
    "y = np.zeros(nt)\n",
    "xd = np.zeros(nt)\n",
    "\n",
    "# ********************************************************************\n",
    "#  Calculations\n",
    "# ********************************************************************\n",
    "\n",
    "\n",
    "x[0] = x0; y[0] = y0;\n",
    "xd[0] = x[0] - xP[0];\n",
    "\n",
    "Rd[0] = np.sqrt(xd[0]**2 + y[0]**2);\n",
    "vx[0] = v_0x; vy[0] = v_0y;\n",
    "\n",
    "ax[0] = -(K / abs(Rd[0])**3) * xd[0];\n",
    "ay[0] = -(K / abs(Rd[0])**3) * y[0];\n",
    "\n",
    "x[1] = x[0] + vx[0] * dt + 0.5 * ax[0] * dt**2;\n",
    "y[1] = y[0] + vy[0] * dt + 0.5 * ay[0] * dt**2;\n",
    "\n",
    "xd[1] = x[1] - xP[1];\n",
    "Rd[1] = np.sqrt(xd[1]**2 + y[1]**2);\n",
    "\n",
    "vx[1] = vx[0] + ax[0] * dt;\n",
    "vy[1] = vy[0] + ay[0] * dt;\n",
    "\n",
    "# time steps 3, 4, 5, ....\n",
    "for c in range(2, nt):\n",
    "    x[c] = -K*dt**2*xd[c-1]/Rd[c-1]**3 + 2*x[c-1] - x[c-2];\n",
    "    y[c] = -K*dt**2*y[c-1]/Rd[c-1]**3 + 2*y[c-1] - y[c-2];\n",
    "    xd[c] = x[c] - xP[c];\n",
    "    Rd[c] = np.sqrt(xd[c]**2 + y[c]**2);\n",
    "\n",
    "\n",
    "# velocity ----------------------------------------------------------\n",
    "R = x + 1j * y;\n",
    "temp_p = np.zeros(nt+2); temp_m = np.zeros(nt+2); temp = np.zeros(nt+2);\n",
    "temp_p[:-2] = R\n",
    "temp_m[2:] = R\n",
    "temp = temp_p - temp_m\n",
    "\n",
    "v[0] = np.abs((R[1]-R[0]) / dt)\n",
    "v[-1] = np.abs((R[-1] - R[-2]) / dt);\n",
    "v[:nt] = np.abs(temp[:-2] / (2*dt));\n",
    "\n",
    "# energy\n",
    "ET = -100*np.ones(nt)\n",
    "EK = v**2\n",
    "EP = ET- EK"
   ]
  },
  {
   "cell_type": "code",
   "execution_count": 39,
   "metadata": {},
   "outputs": [
    {
     "data": {
      "image/png": "[encoded data removed]",
      "text/plain": [
       "<Figure size 432x288 with 1 Axes>"
      ]
     },
     "metadata": {
      "needs_background": "light"
     },
     "output_type": "display_data"
    }
   ],
   "source": [
    "fig1 = plt.figure() # 111111111111111111111111111111111111111111111111111111111\n",
    "\n",
    "# Plot: x, y trajectory\n",
    "x_p = np.real(R);     # x data for plot\n",
    "y_p = np.imag(R);     # y data for plot\n",
    "ns = nt /50;\n",
    "title_x = 'x position  (a.u.)';\n",
    "title_y = 'y position  (a.u.)';\n",
    "\n",
    "plt.plot(x_p, y_p, 'c.', label = \"Satellite\")\n",
    "plt.xlabel(title_x);\n",
    "plt.ylabel(title_y);\n",
    "#plt.axis([-10, 10, -10, 10])\n",
    "\n",
    "plt.show()"
   ]
  },
  {
   "cell_type": "code",
   "execution_count": 42,
   "metadata": {},
   "outputs": [
    {
     "data": {
      "image/png": "[encoded data removed]",
      "text/plain": [
       "<Figure size 432x288 with 2 Axes>"
      ]
     },
     "metadata": {
      "needs_background": "light"
     },
     "output_type": "display_data"
    },
    {
     "data": {
      "image/png": "[encoded data removed]",
      "text/plain": [
       "<Figure size 432x288 with 1 Axes>"
      ]
     },
     "metadata": {
      "needs_background": "light"
     },
     "output_type": "display_data"
    }
   ],
   "source": [
    "fig2 = plt.figure()# 22222222222222222222222222222222222222222222222222222222222\n",
    "plt.subplot(2,1,1)\n",
    "plt.plot(t, v, 'g-')\n",
    "plt.xlabel('time  t  (a.u.)')\n",
    "plt.ylabel('speed of spacecraft (a.u.)')\n",
    "\n",
    "plt.subplot(2,1,2)\n",
    "plt.plot(t, np.abs(R),'b-')\n",
    "plt.xlabel('time  t  (a.u.)')\n",
    "plt.ylabel('separation distance  (a.u.)')\n",
    "\n",
    "fig3 = plt.figure(); # 44444444444444444444444444444444444444444444444444444444444\n",
    "plt.plot(t, EK, 'r', label = '$E_K$')\n",
    "plt.plot(t, EP, 'b', label = '$E_P$')\n",
    "plt.plot(t, ET, 'k', label = '$E_T$')\n",
    "plt.xlabel('time  t  (a.u.)')\n",
    "plt.ylabel('energy (a.u.)')\n",
    "plt.ylim(-500, 500)\n",
    "plt.legend()\n",
    "\n",
    "plt.show()"
   ]
  }
 ],
 "metadata": {
  "kernelspec": {
   "display_name": "Python 3",
   "language": "python",
   "name": "python3"
  },
  "language_info": {
   "codemirror_mode": {
    "name": "ipython",
    "version": 3
   },
   "file_extension": ".py",
   "mimetype": "text/x-python",
   "name": "python",
   "nbconvert_exporter": "python",
   "pygments_lexer": "ipython3",
   "version": "3.7.0"
  }
 },
 "nbformat": 4,
 "nbformat_minor": 2
}
